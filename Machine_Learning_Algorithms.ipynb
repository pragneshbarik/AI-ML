{
  "nbformat": 4,
  "nbformat_minor": 0,
  "metadata": {
    "colab": {
      "name": "Machine Learning Algorithms.ipynb",
      "provenance": [],
      "collapsed_sections": [],
      "mount_file_id": "1B005a1PpY-WWIKdWfzwMOv5MpdjPF76J",
      "authorship_tag": "ABX9TyPu5GMWYltqwM5JQRNLXnos",
      "include_colab_link": true
    },
    "kernelspec": {
      "name": "python3",
      "display_name": "Python 3"
    },
    "language_info": {
      "name": "python"
    }
  },
  "cells": [
    {
      "cell_type": "markdown",
      "metadata": {
        "id": "view-in-github",
        "colab_type": "text"
      },
      "source": [
        "<a href=\"https://colab.research.google.com/github/pragneshbarik/AI-ML/blob/main/Machine_Learning_Algorithms.ipynb\" target=\"_parent\"><img src=\"https://colab.research.google.com/assets/colab-badge.svg\" alt=\"Open In Colab\"/></a>"
      ]
    },
    {
      "cell_type": "markdown",
      "source": [
        "# Reference for Common Machine Learning Algorithms and Data Visualization Techniques.\n",
        "---\n",
        "\n",
        "> **Author: Pragnesh Barik**\n",
        "\n",
        "\n",
        "### Contents\n",
        "1. **Supervised Learning**\n",
        "    1. Linear Regression\n",
        "    2. Logistic Regression\n",
        "    3. Decision Trees\n",
        "    4. Neural Networks\n",
        "    5. Support Vector Machines\n",
        "\n",
        "    \n",
        "2. **Unsupervised Learning**\n",
        "    1. K-Means\n",
        "    2. Principal Component Analysis\n",
        "    3. Anomaly Detection\n",
        "\n",
        "\n",
        "\n",
        "**Sources**\n",
        "* [ML MOOC NPTEL](https://github.com/Santara/ML-MOOC-NPTEL)\n",
        "* [Machine Learning Course by Stanford](https://www.holehouse.org/mlclass/)\n"
      ],
      "metadata": {
        "id": "6BFv0M5iZS7X"
      }
    },
    {
      "cell_type": "code",
      "execution_count": 6,
      "metadata": {
        "id": "oVQ88TK9ZQxW"
      },
      "outputs": [],
      "source": [
        "import numpy as np\n",
        "from sklearn import linear_model\n",
        "import matplotlib.pyplot as plt\n",
        "%matplotlib inline"
      ]
    },
    {
      "cell_type": "markdown",
      "source": [
        "## **1. Linear Regression**\n",
        "\n"
      ],
      "metadata": {
        "id": "ECEP2bR16W2n"
      }
    },
    {
      "cell_type": "markdown",
      "source": [
        "### **Theory** \n",
        "\n",
        "1. Hypothesis Function\n",
        "$$h_\\theta (x) = \\theta_0 + \\theta_1 x_1+ \\theta_2 x_2\\; ... + \\:\\theta_n x_n$$\n",
        "\n",
        "2. Cost Function\n",
        "$$J(\\theta_0, \\theta_1, ... \\theta_n)=\\frac{1}{2m}\\sum_{i=1}^m(h_{\\theta}(x^i)-y^i)^2$$\n",
        "\n",
        "3. Gradient Descent\n",
        "\n",
        "$$\\theta_j := \\theta_j - α\\frac{∂}{∂\\theta_j}J(\\theta_0, \\theta_1, ... \\theta_n)$$\n",
        "$$\\frac{∂}{∂θ_j}J(\\theta_0, \\theta_1, ... \\theta_n)=\\frac{1}{m}\\sum_{i=1}^m(h_\\theta(x^i)-y^i).x_j^i$$\n",
        "\n"
      ],
      "metadata": {
        "id": "RNyFJeMhb6Iv"
      }
    },
    {
      "cell_type": "markdown",
      "source": [
        "### **Prepare Data**\n",
        "To train a linear model according to the following function.\n",
        "\n",
        "$$ y = \\frac{x}{2}+sin(x)+\\epsilon $$ \n",
        "\n",
        "$ϵ$ : Gaussian Noise $\\in$ $(0,1)$\n",
        "\n"
      ],
      "metadata": {
        "id": "5_yWVMoCauMl"
      }
    },
    {
      "cell_type": "code",
      "source": [
        "number_of_samples = 100\n",
        "x = np.linspace(-np.pi, np.pi, number_of_samples)\n",
        "y = 0.5*x + np.sin(x) + np.random.random(x.shape)\n",
        "plt.scatter(x, y, color = 'black')\n",
        "plt.xlabel('x-input feature')\n",
        "plt.ylabel('y-target values')\n",
        "plt.title(\"Fig 1\")\n",
        "plt.show()"
      ],
      "metadata": {
        "id": "gKa0GwsWrhP-",
        "colab": {
          "base_uri": "https://localhost:8080/",
          "height": 295
        },
        "outputId": "56f2a170-34bf-46e7-80aa-bfdc7e3fdf00"
      },
      "execution_count": 20,
      "outputs": [
        {
          "output_type": "display_data",
          "data": {
            "text/plain": [
              "<Figure size 432x288 with 1 Axes>"
            ],
            "image/png": "[encoded data removed]"
          },
          "metadata": {
            "needs_background": "light"
          }
        }
      ]
    },
    {
      "cell_type": "markdown",
      "source": [
        "### Split the dataset into training, validation and test sets"
      ],
      "metadata": {
        "id": "XTMqPYkw-7FK"
      }
    },
    {
      "cell_type": "code",
      "source": [
        "random_indices = np.random.permutation(number_of_samples)\n",
        "#Training Set\n",
        "x_train = x[random_indices[:70]]\n",
        "y_train = y[random_indices[:70]]\n",
        "#Validation Set\n",
        "x_val = x[random_indices[70:85]]\n",
        "y_val = y[random_indices[70:85]]\n",
        "#Test Set\n",
        "x_test = x[random_indices[85:]]\n",
        "y_test = y[random_indices[85:]]"
      ],
      "metadata": {
        "id": "D3bbgsoU8L6s"
      },
      "execution_count": 21,
      "outputs": []
    },
    {
      "cell_type": "markdown",
      "source": [
        "### **Training the Model**\n"
      ],
      "metadata": {
        "id": "0eZE-CQy_F3A"
      }
    },
    {
      "cell_type": "code",
      "source": [
        "model = linear_model.LinearRegression()\n",
        "\n",
        "x_matrix = np.array(x_train.reshape(len(x_train), 1))\n",
        "y_matrix = np.array(x_train.reshape(len(y_train), 1))\n",
        "\n",
        "model.fit(x_matrix, y_matrix)\n",
        "\n",
        "plt.scatter(x_train, y_train, color='black')\n",
        "plt.plot(x.reshape(len(x), 1), model.predict(x.reshape(len(x),1)), color='blue')\n",
        "plt.xlabel('x-input feature')\n",
        "plt.ylabel('y-target values')\n",
        "plt.title(\"Fig 2\")\n",
        "plt.show()"
      ],
      "metadata": {
        "colab": {
          "base_uri": "https://localhost:8080/",
          "height": 295
        },
        "id": "zH8ApHT2_ETI",
        "outputId": "3d9a55a3-27cc-4056-d1f1-350b1fb50172"
      },
      "execution_count": 22,
      "outputs": [
        {
          "output_type": "display_data",
          "data": {
            "text/plain": [
              "<Figure size 432x288 with 1 Axes>"
            ],
            "image/png": "[encoded data removed]"
          },
          "metadata": {
            "needs_background": "light"
          }
        }
      ]
    },
    {
      "cell_type": "code",
      "source": [
        ""
      ],
      "metadata": {
        "id": "soBNrpqV_FOw"
      },
      "execution_count": 18,
      "outputs": []
    },
    {
      "cell_type": "markdown",
      "source": [
        "## **2. Logisitic Regression**"
      ],
      "metadata": {
        "id": "53dIUywEbjWV"
      }
    },
    {
      "cell_type": "markdown",
      "source": [
        "### **Theory**\n",
        "\n",
        "\n",
        "1. Hypothesis Function\n",
        "$$h_\\theta (x) = \\theta_0 + \\theta_1 x_1+ \\theta_2 x_2\\; ... + \\:\\theta_n x_n$$\n",
        "\n",
        "2. Cost Function\n",
        "$$J(\\theta_0, \\theta_1, ... \\theta_n)=\\frac{1}{2m}\\sum_{i=1}^m(h_{\\theta}(x^i)-y^i)^2$$\n",
        "\n",
        "3. Gradient Descent\n",
        "\n",
        "$$\\theta_j := \\theta_j - α\\frac{∂}{∂\\theta_j}J(\\theta_0, \\theta_1, ... \\theta_n)$$\n",
        "$$\\frac{∂}{∂θ_j}J(\\theta_0, \\theta_1, ... \\theta_n)=\\frac{1}{m}\\sum_{i=1}^m(h_\\theta(x^i)-y^i).x_j^i$$"
      ],
      "metadata": {
        "id": "Lu6bFNIqcbZF"
      }
    },
    {
      "cell_type": "code",
      "source": [
        ""
      ],
      "metadata": {
        "id": "Y5_E_cT7bl0X"
      },
      "execution_count": null,
      "outputs": []
    }
  ]
}