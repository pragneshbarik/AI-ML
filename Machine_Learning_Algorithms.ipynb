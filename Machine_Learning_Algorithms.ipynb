{
  "nbformat": 4,
  "nbformat_minor": 0,
  "metadata": {
    "colab": {
      "name": "Machine Learning Algorithms.ipynb",
      "provenance": [],
      "collapsed_sections": [],
      "mount_file_id": "1B005a1PpY-WWIKdWfzwMOv5MpdjPF76J",
      "authorship_tag": "ABX9TyPr1eIkL10dZZh6WHhNOr3m",
      "include_colab_link": true
    },
    "kernelspec": {
      "name": "python3",
      "display_name": "Python 3"
    },
    "language_info": {
      "name": "python"
    }
  },
  "cells": [
    {
      "cell_type": "markdown",
      "metadata": {
        "id": "view-in-github",
        "colab_type": "text"
      },
      "source": [
        "<a href=\"https://colab.research.google.com/github/pragneshbarik/AI-ML/blob/main/Machine_Learning_Algorithms.ipynb\" target=\"_parent\"><img src=\"https://colab.research.google.com/assets/colab-badge.svg\" alt=\"Open In Colab\"/></a>"
      ]
    },
    {
      "cell_type": "markdown",
      "source": [
        "# Reference for Common Machine Learning Algorithms and Data Visualization Techniques.\n",
        "---\n",
        "\n",
        "> **Author: Pragnesh Barik**\n",
        "\n",
        "\n",
        "### Contents\n",
        "1. **Supervised Learning**\n",
        "      1. Linear Regression\n",
        "      2. Logistic Regression\n",
        "      3. Decision Trees\n",
        "      4. Neural Networks\n",
        "      5. Support Vector Machines    \n",
        "2. **Unsupervised Learning**\n",
        "    1. K-Means\n",
        "    2. Principal Component Analysis\n",
        "    3. Anomaly Detection\n",
        "\n",
        "\n",
        "\n",
        "**Sources**\n",
        "* [ML MOOC NPTEL](https://github.com/Santara/ML-MOOC-NPTEL)\n",
        "* [Machine Learning Course by Stanford](https://www.holehouse.org/mlclass/)\n"
      ],
      "metadata": {
        "id": "6BFv0M5iZS7X"
      }
    },
    {
      "cell_type": "code",
      "execution_count": 28,
      "metadata": {
        "id": "oVQ88TK9ZQxW"
      },
      "outputs": [],
      "source": [
        "import numpy as np\n",
        "from sklearn import linear_model, preprocessing\n",
        "import matplotlib.pyplot as plt\n",
        "import pandas as pd\n",
        "%matplotlib inline"
      ]
    },
    {
      "cell_type": "markdown",
      "source": [
        "## **1. Linear Regression**\n",
        "\n"
      ],
      "metadata": {
        "id": "ECEP2bR16W2n"
      }
    },
    {
      "cell_type": "markdown",
      "source": [
        "### **Theory** \n",
        "\n",
        "1. Hypothesis Function\n",
        "$$h_\\theta (x) = \\theta_0 + \\theta_1 x_1+ \\theta_2 x_2\\; ... + \\:\\theta_n x_n$$\n",
        "\n",
        "2. Cost Function\n",
        "$$J(\\theta_0, \\theta_1, ... \\theta_n)=\\frac{1}{2m}\\sum_{i=1}^m(h_{\\theta}(x^i)-y^i)^2$$\n",
        "\n",
        "3. Gradient Descent\n",
        "\n",
        "$$\\theta_j := \\theta_j - α\\frac{∂}{∂\\theta_j}J(\\theta_0, \\theta_1, ... \\theta_n)$$\n",
        "$$\\frac{∂}{∂θ_j}J(\\theta_0, \\theta_1, ... \\theta_n)=\\frac{1}{m}\\sum_{i=1}^m(h_\\theta(x^i)-y^i).x_j^i$$\n",
        "\n"
      ],
      "metadata": {
        "id": "RNyFJeMhb6Iv"
      }
    },
    {
      "cell_type": "markdown",
      "source": [
        "### **Prepare Data**\n",
        "To train a linear model according to the following function.\n",
        "\n",
        "$$ y = \\frac{x}{2}+sin(x)+\\epsilon $$ \n",
        "\n",
        "$ϵ$ : Gaussian Noise $\\in$ $(0,1)$\n",
        "\n"
      ],
      "metadata": {
        "id": "5_yWVMoCauMl"
      }
    },
    {
      "cell_type": "code",
      "source": [
        "number_of_samples = 100\n",
        "x = np.linspace(-np.pi, np.pi, number_of_samples)\n",
        "y = 0.5*x + np.sin(x) + np.random.random(x.shape)\n",
        "plt.scatter(x, y, color = 'black')\n",
        "plt.xlabel('x-input feature')\n",
        "plt.ylabel('y-target values')\n",
        "plt.title(\"Fig 1\")\n",
        "plt.show()"
      ],
      "metadata": {
        "id": "gKa0GwsWrhP-",
        "colab": {
          "base_uri": "https://localhost:8080/",
          "height": 295
        },
        "outputId": "6f468a51-b4cd-46cd-e683-f17b5a025432"
      },
      "execution_count": null,
      "outputs": [
        {
          "output_type": "display_data",
          "data": {
            "text/plain": [
              "<Figure size 432x288 with 1 Axes>"
            ],
            "image/png": "[encoded data removed]"
          },
          "metadata": {
            "needs_background": "light"
          }
        }
      ]
    },
    {
      "cell_type": "markdown",
      "source": [
        "### Split the dataset into training, validation and test sets"
      ],
      "metadata": {
        "id": "XTMqPYkw-7FK"
      }
    },
    {
      "cell_type": "code",
      "source": [
        "random_indices = np.random.permutation(number_of_samples)\n",
        "#Training Set\n",
        "x_train = x[random_indices[:70]]\n",
        "y_train = y[random_indices[:70]]\n",
        "#Validation Set\n",
        "x_val = x[random_indices[70:85]]\n",
        "y_val = y[random_indices[70:85]]\n",
        "#Test Set\n",
        "x_test = x[random_indices[85:]]\n",
        "y_test = y[random_indices[85:]]"
      ],
      "metadata": {
        "id": "D3bbgsoU8L6s"
      },
      "execution_count": null,
      "outputs": []
    },
    {
      "cell_type": "markdown",
      "source": [
        "### **Training the Model**\n"
      ],
      "metadata": {
        "id": "0eZE-CQy_F3A"
      }
    },
    {
      "cell_type": "code",
      "source": [
        "model = linear_model.LinearRegression()\n",
        "\n",
        "x_matrix = np.array(x_train.reshape(len(x_train), 1))\n",
        "y_matrix = np.array(x_train.reshape(len(y_train), 1))\n",
        "\n",
        "model.fit(x_matrix, y_matrix)\n",
        "\n",
        "plt.scatter(x_train, y_train, color='black')\n",
        "plt.plot(x.reshape(len(x), 1), model.predict(x.reshape(len(x),1)), color='blue')\n",
        "plt.xlabel('x-input feature')\n",
        "plt.ylabel('y-target values')\n",
        "plt.title(\"Fig 2\")\n",
        "plt.show()"
      ],
      "metadata": {
        "colab": {
          "base_uri": "https://localhost:8080/",
          "height": 295
        },
        "id": "zH8ApHT2_ETI",
        "outputId": "fa27df55-6ab9-42e4-a8d9-5f9d701fd8a3"
      },
      "execution_count": null,
      "outputs": [
        {
          "output_type": "display_data",
          "data": {
            "text/plain": [
              "<Figure size 432x288 with 1 Axes>"
            ],
            "image/png": "[encoded data removed]"
          },
          "metadata": {
            "needs_background": "light"
          }
        }
      ]
    },
    {
      "cell_type": "markdown",
      "source": [
        "### **Evaluation of Model**\n",
        "\n"
      ],
      "metadata": {
        "id": "ROQqryDmi8ps"
      }
    },
    {
      "cell_type": "code",
      "source": [
        "val_error = np.mean((y_val - model.predict(x_val.reshape(len(x_val),1)))**2)\n",
        "test_error = np.mean((y_test - model.predict(x_test.reshape(len(x_test),1)))**2)\n",
        "print(f\"Validation error : {val_error}\\nTest Error : {test_error}\")"
      ],
      "metadata": {
        "id": "soBNrpqV_FOw",
        "colab": {
          "base_uri": "https://localhost:8080/"
        },
        "outputId": "ec2576fa-bb18-46e7-87e8-ffebe2b150fe"
      },
      "execution_count": null,
      "outputs": [
        {
          "output_type": "stream",
          "name": "stdout",
          "text": [
            "Validation error : 6.773976591771758\n",
            "Test Error : 2.8400437337526294\n"
          ]
        }
      ]
    },
    {
      "cell_type": "markdown",
      "source": [
        "## **2. Logisitic Regression**"
      ],
      "metadata": {
        "id": "53dIUywEbjWV"
      }
    },
    {
      "cell_type": "markdown",
      "source": [
        "### **Theory**\n",
        "\n",
        "\n",
        "1. Hypothesis Function\n",
        "$$h_\\theta (x) = g(\\theta^Tx)$$\n",
        "\n",
        "$$\\theta^Tx = \\theta_0 + \\theta_1 x_1+ \\theta_2 x_2\\; ... + \\:\\theta_n x_n$$\n",
        "\n",
        "$$g(x) = \\frac{1}{1+e^{-x}} $$ \n",
        "\n",
        "> g(x) is known as sigmoid function. \n",
        "\n",
        "![Sigmoid](https://upload.wikimedia.org/wikipedia/commons/5/53/Sigmoid-function-2.svg)\n",
        "\n",
        "2. Cost Function\n",
        "$$J(\\theta)=-\\frac{1}{m}\\sum_{i=1}^m[\\;y^i.\\log(h_{\\theta}(x^i))+(1-y^i).\\log(1-h_\\theta(x^i)\\;]$$\n",
        "\n",
        "3. Gradient Descent\n",
        "\n",
        "$$\\theta_j := \\theta_j - α\\frac{∂}{∂\\theta_j}J(\\theta_0, \\theta_1, ... \\theta_n)$$\n",
        "\n",
        "$$\\frac{∂}{∂θ_j}J(\\theta_0, \\theta_1, ... \\theta_n)=\\frac{1}{m}\\sum_{i=1}^m(h_\\theta(x^i)-y^i).x_j^i$$"
      ],
      "metadata": {
        "id": "Lu6bFNIqcbZF"
      }
    },
    {
      "cell_type": "markdown",
      "source": [
        "### **Prepare Data**\n",
        "\n",
        "To make a logistic regression model to predict if the handwritten digit is 8 or not. We will use the MNIST database of handwritten digits."
      ],
      "metadata": {
        "id": "lenN4U9YonX6"
      }
    },
    {
      "cell_type": "code",
      "source": [
        "mnist_df = pd.read_csv(\"train.csv\")\n",
        "display(mnist_df.head())"
      ],
      "metadata": {
        "colab": {
          "base_uri": "https://localhost:8080/",
          "height": 299
        },
        "id": "AUHhlCespTQB",
        "outputId": "e8186565-b737-46f3-a112-a95cac891530"
      },
      "execution_count": 58,
      "outputs": [
        {
          "output_type": "display_data",
          "data": {
            "text/plain": [
              "   label  pixel0  pixel1  pixel2  pixel3  pixel4  pixel5  pixel6  pixel7  \\\n",
              "0      1       0       0       0       0       0       0       0       0   \n",
              "1      0       0       0       0       0       0       0       0       0   \n",
              "2      1       0       0       0       0       0       0       0       0   \n",
              "3      4       0       0       0       0       0       0       0       0   \n",
              "4      0       0       0       0       0       0       0       0       0   \n",
              "\n",
              "   pixel8  ...  pixel774  pixel775  pixel776  pixel777  pixel778  pixel779  \\\n",
              "0       0  ...       0.0       0.0       0.0       0.0       0.0       0.0   \n",
              "1       0  ...       0.0       0.0       0.0       0.0       0.0       0.0   \n",
              "2       0  ...       0.0       0.0       0.0       0.0       0.0       0.0   \n",
              "3       0  ...       0.0       0.0       0.0       0.0       0.0       0.0   \n",
              "4       0  ...       0.0       0.0       0.0       0.0       0.0       0.0   \n",
              "\n",
              "   pixel780  pixel781  pixel782  pixel783  \n",
              "0       0.0       0.0       0.0       0.0  \n",
              "1       0.0       0.0       0.0       0.0  \n",
              "2       0.0       0.0       0.0       0.0  \n",
              "3       0.0       0.0       0.0       0.0  \n",
              "4       0.0       0.0       0.0       0.0  \n",
              "\n",
              "[5 rows x 785 columns]"
            ],
            "text/html": [
              "\n",
              "  <div id=\"df-98cd275a-e999-4aa9-8735-7bb2c1928d5a\">\n",
              "    <div class=\"colab-df-container\">\n",
              "      <div>\n",
              "<style scoped>\n",
              "    .dataframe tbody tr th:only-of-type {\n",
              "        vertical-align: middle;\n",
              "    }\n",
              "\n",
              "    .dataframe tbody tr th {\n",
              "        vertical-align: top;\n",
              "    }\n",
              "\n",
              "    .dataframe thead th {\n",
              "        text-align: right;\n",
              "    }\n",
              "</style>\n",
              "<table border=\"1\" class=\"dataframe\">\n",
              "  <thead>\n",
              "    <tr style=\"text-align: right;\">\n",
              "      <th></th>\n",
              "      <th>label</th>\n",
              "      <th>pixel0</th>\n",
              "      <th>pixel1</th>\n",
              "      <th>pixel2</th>\n",
              "      <th>pixel3</th>\n",
              "      <th>pixel4</th>\n",
              "      <th>pixel5</th>\n",
              "      <th>pixel6</th>\n",
              "      <th>pixel7</th>\n",
              "      <th>pixel8</th>\n",
              "      <th>...</th>\n",
              "      <th>pixel774</th>\n",
              "      <th>pixel775</th>\n",
              "      <th>pixel776</th>\n",
              "      <th>pixel777</th>\n",
              "      <th>pixel778</th>\n",
              "      <th>pixel779</th>\n",
              "      <th>pixel780</th>\n",
              "      <th>pixel781</th>\n",
              "      <th>pixel782</th>\n",
              "      <th>pixel783</th>\n",
              "    </tr>\n",
              "  </thead>\n",
              "  <tbody>\n",
              "    <tr>\n",
              "      <th>0</th>\n",
              "      <td>1</td>\n",
              "      <td>0</td>\n",
              "      <td>0</td>\n",
              "      <td>0</td>\n",
              "      <td>0</td>\n",
              "      <td>0</td>\n",
              "      <td>0</td>\n",
              "      <td>0</td>\n",
              "      <td>0</td>\n",
              "      <td>0</td>\n",
              "      <td>...</td>\n",
              "      <td>0.0</td>\n",
              "      <td>0.0</td>\n",
              "      <td>0.0</td>\n",
              "      <td>0.0</td>\n",
              "      <td>0.0</td>\n",
              "      <td>0.0</td>\n",
              "      <td>0.0</td>\n",
              "      <td>0.0</td>\n",
              "      <td>0.0</td>\n",
              "      <td>0.0</td>\n",
              "    </tr>\n",
              "    <tr>\n",
              "      <th>1</th>\n",
              "      <td>0</td>\n",
              "      <td>0</td>\n",
              "      <td>0</td>\n",
              "      <td>0</td>\n",
              "      <td>0</td>\n",
              "      <td>0</td>\n",
              "      <td>0</td>\n",
              "      <td>0</td>\n",
              "      <td>0</td>\n",
              "      <td>0</td>\n",
              "      <td>...</td>\n",
              "      <td>0.0</td>\n",
              "      <td>0.0</td>\n",
              "      <td>0.0</td>\n",
              "      <td>0.0</td>\n",
              "      <td>0.0</td>\n",
              "      <td>0.0</td>\n",
              "      <td>0.0</td>\n",
              "      <td>0.0</td>\n",
              "      <td>0.0</td>\n",
              "      <td>0.0</td>\n",
              "    </tr>\n",
              "    <tr>\n",
              "      <th>2</th>\n",
              "      <td>1</td>\n",
              "      <td>0</td>\n",
              "      <td>0</td>\n",
              "      <td>0</td>\n",
              "      <td>0</td>\n",
              "      <td>0</td>\n",
              "      <td>0</td>\n",
              "      <td>0</td>\n",
              "      <td>0</td>\n",
              "      <td>0</td>\n",
              "      <td>...</td>\n",
              "      <td>0.0</td>\n",
              "      <td>0.0</td>\n",
              "      <td>0.0</td>\n",
              "      <td>0.0</td>\n",
              "      <td>0.0</td>\n",
              "      <td>0.0</td>\n",
              "      <td>0.0</td>\n",
              "      <td>0.0</td>\n",
              "      <td>0.0</td>\n",
              "      <td>0.0</td>\n",
              "    </tr>\n",
              "    <tr>\n",
              "      <th>3</th>\n",
              "      <td>4</td>\n",
              "      <td>0</td>\n",
              "      <td>0</td>\n",
              "      <td>0</td>\n",
              "      <td>0</td>\n",
              "      <td>0</td>\n",
              "      <td>0</td>\n",
              "      <td>0</td>\n",
              "      <td>0</td>\n",
              "      <td>0</td>\n",
              "      <td>...</td>\n",
              "      <td>0.0</td>\n",
              "      <td>0.0</td>\n",
              "      <td>0.0</td>\n",
              "      <td>0.0</td>\n",
              "      <td>0.0</td>\n",
              "      <td>0.0</td>\n",
              "      <td>0.0</td>\n",
              "      <td>0.0</td>\n",
              "      <td>0.0</td>\n",
              "      <td>0.0</td>\n",
              "    </tr>\n",
              "    <tr>\n",
              "      <th>4</th>\n",
              "      <td>0</td>\n",
              "      <td>0</td>\n",
              "      <td>0</td>\n",
              "      <td>0</td>\n",
              "      <td>0</td>\n",
              "      <td>0</td>\n",
              "      <td>0</td>\n",
              "      <td>0</td>\n",
              "      <td>0</td>\n",
              "      <td>0</td>\n",
              "      <td>...</td>\n",
              "      <td>0.0</td>\n",
              "      <td>0.0</td>\n",
              "      <td>0.0</td>\n",
              "      <td>0.0</td>\n",
              "      <td>0.0</td>\n",
              "      <td>0.0</td>\n",
              "      <td>0.0</td>\n",
              "      <td>0.0</td>\n",
              "      <td>0.0</td>\n",
              "      <td>0.0</td>\n",
              "    </tr>\n",
              "  </tbody>\n",
              "</table>\n",
              "<p>5 rows × 785 columns</p>\n",
              "</div>\n",
              "      <button class=\"colab-df-convert\" onclick=\"convertToInteractive('df-98cd275a-e999-4aa9-8735-7bb2c1928d5a')\"\n",
              "              title=\"Convert this dataframe to an interactive table.\"\n",
              "              style=\"display:none;\">\n",
              "        \n",
              "  <svg xmlns=\"http://www.w3.org/2000/svg\" height=\"24px\"viewBox=\"0 0 24 24\"\n",
              "       width=\"24px\">\n",
              "    <path d=\"M0 0h24v24H0V0z\" fill=\"none\"/>\n",
              "    <path d=\"M18.56 5.44l.94 2.06.94-2.06 2.06-.94-2.06-.94-.94-2.06-.94 2.06-2.06.94zm-11 1L8.5 8.5l.94-2.06 2.06-.94-2.06-.94L8.5 2.5l-.94 2.06-2.06.94zm10 10l.94 2.06.94-2.06 2.06-.94-2.06-.94-.94-2.06-.94 2.06-2.06.94z\"/><path d=\"M17.41 7.96l-1.37-1.37c-.4-.4-.92-.59-1.43-.59-.52 0-1.04.2-1.43.59L10.3 9.45l-7.72 7.72c-.78.78-.78 2.05 0 2.83L4 21.41c.39.39.9.59 1.41.59.51 0 1.02-.2 1.41-.59l7.78-7.78 2.81-2.81c.8-.78.8-2.07 0-2.86zM5.41 20L4 18.59l7.72-7.72 1.47 1.35L5.41 20z\"/>\n",
              "  </svg>\n",
              "      </button>\n",
              "      \n",
              "  <style>\n",
              "    .colab-df-container {\n",
              "      display:flex;\n",
              "      flex-wrap:wrap;\n",
              "      gap: 12px;\n",
              "    }\n",
              "\n",
              "    .colab-df-convert {\n",
              "      background-color: #E8F0FE;\n",
              "      border: none;\n",
              "      border-radius: 50%;\n",
              "      cursor: pointer;\n",
              "      display: none;\n",
              "      fill: #1967D2;\n",
              "      height: 32px;\n",
              "      padding: 0 0 0 0;\n",
              "      width: 32px;\n",
              "    }\n",
              "\n",
              "    .colab-df-convert:hover {\n",
              "      background-color: #E2EBFA;\n",
              "      box-shadow: 0px 1px 2px rgba(60, 64, 67, 0.3), 0px 1px 3px 1px rgba(60, 64, 67, 0.15);\n",
              "      fill: #174EA6;\n",
              "    }\n",
              "\n",
              "    [theme=dark] .colab-df-convert {\n",
              "      background-color: #3B4455;\n",
              "      fill: #D2E3FC;\n",
              "    }\n",
              "\n",
              "    [theme=dark] .colab-df-convert:hover {\n",
              "      background-color: #434B5C;\n",
              "      box-shadow: 0px 1px 3px 1px rgba(0, 0, 0, 0.15);\n",
              "      filter: drop-shadow(0px 1px 2px rgba(0, 0, 0, 0.3));\n",
              "      fill: #FFFFFF;\n",
              "    }\n",
              "  </style>\n",
              "\n",
              "      <script>\n",
              "        const buttonEl =\n",
              "          document.querySelector('#df-98cd275a-e999-4aa9-8735-7bb2c1928d5a button.colab-df-convert');\n",
              "        buttonEl.style.display =\n",
              "          google.colab.kernel.accessAllowed ? 'block' : 'none';\n",
              "\n",
              "        async function convertToInteractive(key) {\n",
              "          const element = document.querySelector('#df-98cd275a-e999-4aa9-8735-7bb2c1928d5a');\n",
              "          const dataTable =\n",
              "            await google.colab.kernel.invokeFunction('convertToInteractive',\n",
              "                                                     [key], {});\n",
              "          if (!dataTable) return;\n",
              "\n",
              "          const docLinkHtml = 'Like what you see? Visit the ' +\n",
              "            '<a target=\"_blank\" href=https://colab.research.google.com/notebooks/data_table.ipynb>data table notebook</a>'\n",
              "            + ' to learn more about interactive tables.';\n",
              "          element.innerHTML = '';\n",
              "          dataTable['output_type'] = 'display_data';\n",
              "          await google.colab.output.renderOutput(dataTable, element);\n",
              "          const docLink = document.createElement('div');\n",
              "          docLink.innerHTML = docLinkHtml;\n",
              "          element.appendChild(docLink);\n",
              "        }\n",
              "      </script>\n",
              "    </div>\n",
              "  </div>\n",
              "  "
            ]
          },
          "metadata": {}
        }
      ]
    },
    {
      "cell_type": "markdown",
      "source": [
        "### **Visualize Data**"
      ],
      "metadata": {
        "id": "0IjTmpplxhEy"
      }
    },
    {
      "cell_type": "code",
      "source": [
        "random_row = np.array(mnist_df.iloc[np.random.randint(mnist_df.shape[0])].drop('label'))\n",
        "plt.imshow(random_row.reshape(28, 28))\n",
        "plt.show()"
      ],
      "metadata": {
        "colab": {
          "base_uri": "https://localhost:8080/",
          "height": 265
        },
        "id": "VhDJOvalp6x_",
        "outputId": "090422fb-43f8-4d2b-d4e0-402a8edecd24"
      },
      "execution_count": 57,
      "outputs": [
        {
          "output_type": "display_data",
          "data": {
            "text/plain": [
              "<Figure size 432x288 with 1 Axes>"
            ],
            "image/png": "[encoded data removed]"
          },
          "metadata": {
            "needs_background": "light"
          }
        }
      ]
    },
    {
      "cell_type": "code",
      "source": [
        "y_train"
      ],
      "metadata": {
        "colab": {
          "base_uri": "https://localhost:8080/"
        },
        "id": "LZnpI9ccr-0r",
        "outputId": "0d85dccd-baa8-4cc9-ac0f-00beef9cabac"
      },
      "execution_count": 54,
      "outputs": [
        {
          "output_type": "execute_result",
          "data": {
            "text/plain": [
              "0        0\n",
              "1        0\n",
              "2        0\n",
              "3        0\n",
              "4        0\n",
              "        ..\n",
              "19994    0\n",
              "19995    0\n",
              "19996    0\n",
              "19997    0\n",
              "19998    0\n",
              "Name: 6, Length: 19999, dtype: int64"
            ]
          },
          "metadata": {},
          "execution_count": 54
        }
      ]
    },
    {
      "cell_type": "code",
      "source": [
        ""
      ],
      "metadata": {
        "id": "bKWjkR2JuHA4"
      },
      "execution_count": null,
      "outputs": []
    }
  ]
}