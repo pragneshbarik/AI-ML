{
  "nbformat": 4,
  "nbformat_minor": 0,
  "metadata": {
    "colab": {
      "name": "Machine Learning Algorithms.ipynb",
      "provenance": [],
      "collapsed_sections": [],
      "authorship_tag": "ABX9TyMMlTPPp5TFf7DZR8PgQpns",
      "include_colab_link": true
    },
    "kernelspec": {
      "name": "python3",
      "display_name": "Python 3"
    },
    "language_info": {
      "name": "python"
    }
  },
  "cells": [
    {
      "cell_type": "markdown",
      "metadata": {
        "id": "view-in-github",
        "colab_type": "text"
      },
      "source": [
        "<a href=\"https://colab.research.google.com/github/pragneshbarik/AI-ML/blob/main/Machine_Learning_Algorithms.ipynb\" target=\"_parent\"><img src=\"https://colab.research.google.com/assets/colab-badge.svg\" alt=\"Open In Colab\"/></a>"
      ]
    },
    {
      "cell_type": "markdown",
      "source": [
        "## Reference for Common Machine Learning Algorithms and Data Visualization Techniques.\n",
        "---\n",
        "\n",
        "> **Author: Pragnesh Barik**\n",
        "\n",
        "\n",
        "### Contents\n",
        "1. **Supervised Learning**\n",
        "\n",
        "    1. Linear Regression\n",
        "\n",
        "    2. Logistic Regression\n",
        "    3. Neural Networks\n",
        "    4. Support Vector Machines\n",
        "\n",
        "    \n",
        "2. **Unsupervised Learning**\n",
        "    1. K-Means\n",
        "\n",
        "    2. Principal Component Analysis\n",
        "    3. Anomaly Detection\n",
        "    \n",
        "3. **Data Visualization with Mathplotlib**\n",
        "\n"
      ],
      "metadata": {
        "id": "6BFv0M5iZS7X"
      }
    },
    {
      "cell_type": "code",
      "execution_count": null,
      "metadata": {
        "id": "oVQ88TK9ZQxW"
      },
      "outputs": [],
      "source": [
        ""
      ]
    }
  ]
}