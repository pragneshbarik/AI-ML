{
  "nbformat": 4,
  "nbformat_minor": 0,
  "metadata": {
    "colab": {
      "name": "Otaku-Recommender-Engine.ipynb",
      "provenance": [],
      "collapsed_sections": [],
      "authorship_tag": "ABX9TyMYnaCCRQvOopPa2qsL2GXr",
      "include_colab_link": true
    },
    "kernelspec": {
      "name": "python3",
      "display_name": "Python 3"
    },
    "language_info": {
      "name": "python"
    }
  },
  "cells": [
    {
      "cell_type": "markdown",
      "metadata": {
        "id": "view-in-github",
        "colab_type": "text"
      },
      "source": [
        "<a href=\"https://colab.research.google.com/github/pragneshbarik/AI-ML/blob/main/otaku_recommender_engine.ipynb\" target=\"_parent\"><img src=\"https://colab.research.google.com/assets/colab-badge.svg\" alt=\"Open In Colab\"/></a>"
      ]
    },
    {
      "cell_type": "code",
      "execution_count": 2,
      "metadata": {
        "id": "vpROqv0nuI1C"
      },
      "outputs": [],
      "source": [
        "! pip install -q kaggle"
      ]
    },
    {
      "cell_type": "code",
      "source": [
        "from google.colab import files\n",
        "files.upload()"
      ],
      "metadata": {
        "id": "_qnlRV4DugJM"
      },
      "execution_count": null,
      "outputs": []
    },
    {
      "cell_type": "code",
      "source": [
        "! mkdir ~/.kaggle\n",
        "! cp kaggle.json ~/.kaggle/\n",
        "! chmod 600 ~/.kaggle/kaggle.json\n",
        "! kaggle datasets download -d marlesson/myanimelist-dataset-animes-profiles-reviews\n",
        "! mkdir anime_dataset\n",
        "! unzip /content/myanimelist-dataset-animes-profiles-reviews.zip -d anime_dataset"
      ],
      "metadata": {
        "id": "Ah1JVwoNukoN"
      },
      "execution_count": 4,
      "outputs": []
    },
    {
      "cell_type": "code",
      "source": [
        "import pandas as pd\n",
        "import numpy as np\n",
        "import re\n",
        "from nltk.stem.porter import PorterStemmer\n",
        "from sklearn.feature_extraction.text import CountVectorizer\n",
        "from sklearn.metrics.pairwise import cosine_similarity"
      ],
      "metadata": {
        "id": "6ghOFVtzvKzY"
      },
      "execution_count": 175,
      "outputs": []
    },
    {
      "cell_type": "code",
      "source": [
        "ps = PorterStemmer()\n",
        "def punctuation_replacer(x) :\n",
        "  to_replace = [':', \"!\", \"?\", \"-\", '\"', \";\", \"+\", \"\\r\", \"\\n\"]\n",
        "  for c in to_replace :\n",
        "    x = x.replace(c, \"\")\n",
        "  \n",
        "  return x\n",
        "\n",
        "def stemmer(text) :\n",
        "  stemmed_text = []\n",
        "  for word in text.split() :\n",
        "    stemmed_text.append(ps.stem(word))\n",
        "  \n",
        "  return \" \".join(stemmed_text)\n",
        "\n",
        "def recommend(uid) :\n",
        "  idx = anime_df[anime_df['uid']==uid].index[0]\n",
        "  args = (-similarity_matrix[idx]).argsort()[:1000]\n",
        "  return args"
      ],
      "metadata": {
        "id": "XiHCbu2cCkd3"
      },
      "execution_count": 229,
      "outputs": []
    },
    {
      "cell_type": "code",
      "source": [
        "anime_df = pd.read_csv(\"/content/anime_dataset/animes.csv\")\n",
        "anime_df = anime_df.drop_duplicates(subset=['uid']).dropna(subset=['synopsis', 'img_url']).fillna(0)\n",
        "anime_df['id']=np.arange(len(anime_df['uid']))\n",
        "anime_df.set_index('id', drop=True, inplace=True)"
      ],
      "metadata": {
        "id": "ePeQD1HovyY3"
      },
      "execution_count": 230,
      "outputs": []
    },
    {
      "cell_type": "code",
      "source": [
        "anime_df['synopsis']=anime_df['synopsis'].apply(punctuation_replacer).apply(lambda x:re.split(', |\"|,|-| ' , x))\n",
        "anime_df['genre']=anime_df['genre'].apply(lambda x: x.replace(\"'\", \"\")).apply(lambda x:x[1:-1].split(',')).apply(lambda x:[i.replace(\" \", '') for i in x])\n",
        "anime_df['title_mod']  = anime_df['title'].apply(punctuation_replacer).apply(lambda x:x.split(\" \"))"
      ],
      "metadata": {
        "id": "kcLRav-N2oKx"
      },
      "execution_count": 232,
      "outputs": []
    },
    {
      "cell_type": "code",
      "source": [
        "anime_df['tags'] = anime_df['genre']+anime_df['synopsis']\n",
        "tagged_anime_df = anime_df[['uid', 'title', 'tags']]\n",
        "tagged_anime_df['tags']=tagged_anime_df['tags'].apply(lambda x:\" \".join(x))"
      ],
      "metadata": {
        "id": "pNyG2rgOCckg"
      },
      "execution_count": null,
      "outputs": []
    },
    {
      "cell_type": "code",
      "source": [
        "vectorizer = CountVectorizer(max_features=5000, stop_words='english')\n",
        "anime_vectors = vectorizer.fit_transform(tagged_anime_df['tags']).toarray()\n",
        "tagged_anime_df['tags'] = tagged_anime_df['tags'].apply(stemmer)"
      ],
      "metadata": {
        "id": "9zYO5wS-DRAi"
      },
      "execution_count": null,
      "outputs": []
    },
    {
      "cell_type": "code",
      "source": [
        "similarity_matrix = cosine_similarity(anime_vectors)"
      ],
      "metadata": {
        "id": "_NQW-bfPKrLc"
      },
      "execution_count": 236,
      "outputs": []
    },
    {
      "cell_type": "code",
      "source": [
        "anime_df['uid'].apply(recommend)\n",
        "picks['uid'] = anime_df['uid']\n",
        "picks['recommendations']= anime_df['uid'].apply(recommend)\n",
        "picks.set_index('uid', drop=True, inplace=True)\n",
        "picks.to_json('similarity_cache.json')\n",
        "picks.to_json('similarity_cache.json')"
      ],
      "metadata": {
        "id": "ittZm6exeqQq"
      },
      "execution_count": 311,
      "outputs": []
    }
  ]
}